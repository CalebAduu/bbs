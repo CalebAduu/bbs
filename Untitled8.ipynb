{
 "cells": [
  {
   "cell_type": "code",
   "execution_count": 1,
   "id": "b6ebd89d-f834-405e-8514-726e06c7d8bb",
   "metadata": {},
   "outputs": [
    {
     "name": "stdout",
     "output_type": "stream",
     "text": [
      "Collecting ccxt\n",
      "  Downloading ccxt-4.5.0-py2.py3-none-any.whl.metadata (132 kB)\n",
      "Requirement already satisfied: pandas in c:\\users\\caleb\\anaconda3\\lib\\site-packages (2.2.2)\n",
      "Requirement already satisfied: openpyxl in c:\\users\\caleb\\anaconda3\\lib\\site-packages (3.1.5)\n",
      "Requirement already satisfied: setuptools>=60.9.0 in c:\\users\\caleb\\anaconda3\\lib\\site-packages (from ccxt) (75.1.0)\n",
      "Requirement already satisfied: certifi>=2018.1.18 in c:\\users\\caleb\\anaconda3\\lib\\site-packages (from ccxt) (2025.4.26)\n",
      "Requirement already satisfied: requests>=2.18.4 in c:\\users\\caleb\\anaconda3\\lib\\site-packages (from ccxt) (2.32.3)\n",
      "Requirement already satisfied: cryptography>=2.6.1 in c:\\users\\caleb\\anaconda3\\lib\\site-packages (from ccxt) (43.0.0)\n",
      "Requirement already satisfied: typing-extensions>=4.4.0 in c:\\users\\caleb\\anaconda3\\lib\\site-packages (from ccxt) (4.14.1)\n",
      "Collecting aiohttp>=3.10.11 (from ccxt)\n",
      "  Downloading aiohttp-3.12.15-cp312-cp312-win_amd64.whl.metadata (7.9 kB)\n",
      "Collecting aiodns>=1.1.1 (from ccxt)\n",
      "  Downloading aiodns-3.5.0-py3-none-any.whl.metadata (5.8 kB)\n",
      "Requirement already satisfied: yarl>=1.7.2 in c:\\users\\caleb\\anaconda3\\lib\\site-packages (from ccxt) (1.11.0)\n",
      "Requirement already satisfied: numpy>=1.26.0 in c:\\users\\caleb\\anaconda3\\lib\\site-packages (from pandas) (1.26.4)\n",
      "Requirement already satisfied: python-dateutil>=2.8.2 in c:\\users\\caleb\\anaconda3\\lib\\site-packages (from pandas) (2.9.0.post0)\n",
      "Requirement already satisfied: pytz>=2020.1 in c:\\users\\caleb\\anaconda3\\lib\\site-packages (from pandas) (2024.1)\n",
      "Requirement already satisfied: tzdata>=2022.7 in c:\\users\\caleb\\anaconda3\\lib\\site-packages (from pandas) (2023.3)\n",
      "Requirement already satisfied: et-xmlfile in c:\\users\\caleb\\anaconda3\\lib\\site-packages (from openpyxl) (1.1.0)\n",
      "Collecting pycares>=4.9.0 (from aiodns>=1.1.1->ccxt)\n",
      "  Downloading pycares-4.10.0-cp312-cp312-win_amd64.whl.metadata (4.6 kB)\n",
      "Collecting aiohappyeyeballs>=2.5.0 (from aiohttp>=3.10.11->ccxt)\n",
      "  Using cached aiohappyeyeballs-2.6.1-py3-none-any.whl.metadata (5.9 kB)\n",
      "Collecting aiosignal>=1.4.0 (from aiohttp>=3.10.11->ccxt)\n",
      "  Downloading aiosignal-1.4.0-py3-none-any.whl.metadata (3.7 kB)\n",
      "Requirement already satisfied: attrs>=17.3.0 in c:\\users\\caleb\\anaconda3\\lib\\site-packages (from aiohttp>=3.10.11->ccxt) (23.1.0)\n",
      "Requirement already satisfied: frozenlist>=1.1.1 in c:\\users\\caleb\\anaconda3\\lib\\site-packages (from aiohttp>=3.10.11->ccxt) (1.4.0)\n",
      "Requirement already satisfied: multidict<7.0,>=4.5 in c:\\users\\caleb\\anaconda3\\lib\\site-packages (from aiohttp>=3.10.11->ccxt) (6.0.4)\n",
      "Collecting propcache>=0.2.0 (from aiohttp>=3.10.11->ccxt)\n",
      "  Downloading propcache-0.3.2-cp312-cp312-win_amd64.whl.metadata (12 kB)\n",
      "Collecting yarl>=1.7.2 (from ccxt)\n",
      "  Downloading yarl-1.20.1-cp312-cp312-win_amd64.whl.metadata (76 kB)\n",
      "Requirement already satisfied: cffi>=1.12 in c:\\users\\caleb\\anaconda3\\lib\\site-packages (from cryptography>=2.6.1->ccxt) (1.17.1)\n",
      "Requirement already satisfied: six>=1.5 in c:\\users\\caleb\\anaconda3\\lib\\site-packages (from python-dateutil>=2.8.2->pandas) (1.16.0)\n",
      "Requirement already satisfied: charset-normalizer<4,>=2 in c:\\users\\caleb\\anaconda3\\lib\\site-packages (from requests>=2.18.4->ccxt) (3.3.2)\n",
      "Requirement already satisfied: idna<4,>=2.5 in c:\\users\\caleb\\anaconda3\\lib\\site-packages (from requests>=2.18.4->ccxt) (3.7)\n",
      "Requirement already satisfied: urllib3<3,>=1.21.1 in c:\\users\\caleb\\anaconda3\\lib\\site-packages (from requests>=2.18.4->ccxt) (2.2.3)\n",
      "Requirement already satisfied: pycparser in c:\\users\\caleb\\anaconda3\\lib\\site-packages (from cffi>=1.12->cryptography>=2.6.1->ccxt) (2.21)\n",
      "Downloading ccxt-4.5.0-py2.py3-none-any.whl (5.8 MB)\n",
      "   ---------------------------------------- 0.0/5.8 MB ? eta -:--:--\n",
      "   ---------------------------------------- 5.8/5.8 MB 32.0 MB/s eta 0:00:00\n",
      "Downloading aiodns-3.5.0-py3-none-any.whl (8.1 kB)\n",
      "Downloading aiohttp-3.12.15-cp312-cp312-win_amd64.whl (450 kB)\n",
      "Downloading yarl-1.20.1-cp312-cp312-win_amd64.whl (86 kB)\n",
      "Using cached aiohappyeyeballs-2.6.1-py3-none-any.whl (15 kB)\n",
      "Downloading aiosignal-1.4.0-py3-none-any.whl (7.5 kB)\n",
      "Downloading propcache-0.3.2-cp312-cp312-win_amd64.whl (41 kB)\n",
      "Downloading pycares-4.10.0-cp312-cp312-win_amd64.whl (144 kB)\n",
      "Installing collected packages: propcache, aiosignal, aiohappyeyeballs, yarl, pycares, aiohttp, aiodns, ccxt\n",
      "  Attempting uninstall: aiosignal\n",
      "    Found existing installation: aiosignal 1.2.0\n",
      "    Uninstalling aiosignal-1.2.0:\n",
      "      Successfully uninstalled aiosignal-1.2.0\n",
      "  Attempting uninstall: aiohappyeyeballs\n",
      "    Found existing installation: aiohappyeyeballs 2.4.0\n",
      "    Uninstalling aiohappyeyeballs-2.4.0:\n",
      "      Successfully uninstalled aiohappyeyeballs-2.4.0\n",
      "  Attempting uninstall: yarl\n",
      "    Found existing installation: yarl 1.11.0\n",
      "    Uninstalling yarl-1.11.0:\n",
      "      Successfully uninstalled yarl-1.11.0\n",
      "  Attempting uninstall: aiohttp\n",
      "    Found existing installation: aiohttp 3.10.5\n",
      "    Uninstalling aiohttp-3.10.5:\n",
      "      Successfully uninstalled aiohttp-3.10.5\n",
      "Successfully installed aiodns-3.5.0 aiohappyeyeballs-2.6.1 aiohttp-3.12.15 aiosignal-1.4.0 ccxt-4.5.0 propcache-0.3.2 pycares-4.10.0 yarl-1.20.1\n"
     ]
    }
   ],
   "source": [
    "!pip install ccxt pandas openpyxl"
   ]
  },
  {
   "cell_type": "code",
   "execution_count": 5,
   "id": "c71a00e8-9d45-42eb-9604-e9fa18a4bed1",
   "metadata": {},
   "outputs": [
    {
     "name": "stdout",
     "output_type": "stream",
     "text": [
      "[WARN] load_markets failed for huobi: huobi GET https://api.hbdm.com/linear-swap-api/v1/swap_contract_info?business_type=all\n",
      "Saved 2033 rows to results_spot.csv and results_spot.xlsx\n",
      "           timestamp market_type     symbol min_ex    min_price max_ex  max_price  abs_spread  pct_spread_mid  count_venues                          venues\n",
      "2025-08-14T06:36:46Z        spot TROLL/USDT   mexc 5.071000e-09 kucoin   0.170640    0.170640        2.000000             3                gate,kucoin,mexc\n",
      "2025-08-14T06:36:46Z        spot   BDT/USDT   gate 5.045700e-05   mexc  13.963092   13.963042        1.999986             2                       gate,mexc\n",
      "2025-08-14T06:36:46Z        spot   PMX/USDT   mexc 1.305000e-03   gate 165.720000  165.718695        1.999969             2                       gate,mexc\n",
      "2025-08-14T06:36:46Z        spot  FORM/USDT kucoin 3.790000e-05 bitget   3.881900    3.881862        1.999961             5 binance,bitget,gate,kucoin,mexc\n",
      "2025-08-14T06:36:46Z        spot DOT3S/USDT kucoin 5.109000e-05   gate   3.307000    3.306949        1.999938             2                     gate,kucoin\n"
     ]
    },
    {
     "name": "stderr",
     "output_type": "stream",
     "text": [
      "C:\\Users\\Caleb\\cex_arbitrage_scanner.py:48: DeprecationWarning: datetime.datetime.utcnow() is deprecated and scheduled for removal in a future version. Use timezone-aware objects to represent datetimes in UTC: datetime.datetime.now(datetime.UTC).\n",
      "  return dt.datetime.utcnow().replace(microsecond=0).isoformat() + \"Z\"\n"
     ]
    }
   ],
   "source": [
    "!python cex_arbitrage_scanner.py --type spot --exchanges binance bybit kucoin okx gate bitget mexc kraken coinbase huobi --quotes USDT USDC USD --top 5 --min-venues 2 --outfile results_spot\n"
   ]
  },
  {
   "cell_type": "code",
   "execution_count": 7,
   "id": "64590926-a9a5-4fb6-a201-86fe6d6c69b3",
   "metadata": {},
   "outputs": [
    {
     "name": "stdout",
     "output_type": "stream",
     "text": [
      "Collecting pycoingecko\n",
      "  Downloading pycoingecko-3.2.0-py3-none-any.whl.metadata (16 kB)\n",
      "Requirement already satisfied: requests in c:\\users\\caleb\\anaconda3\\lib\\site-packages (from pycoingecko) (2.32.3)\n",
      "Requirement already satisfied: charset-normalizer<4,>=2 in c:\\users\\caleb\\anaconda3\\lib\\site-packages (from requests->pycoingecko) (3.3.2)\n",
      "Requirement already satisfied: idna<4,>=2.5 in c:\\users\\caleb\\anaconda3\\lib\\site-packages (from requests->pycoingecko) (3.7)\n",
      "Requirement already satisfied: urllib3<3,>=1.21.1 in c:\\users\\caleb\\anaconda3\\lib\\site-packages (from requests->pycoingecko) (2.2.3)\n",
      "Requirement already satisfied: certifi>=2017.4.17 in c:\\users\\caleb\\anaconda3\\lib\\site-packages (from requests->pycoingecko) (2025.4.26)\n",
      "Downloading pycoingecko-3.2.0-py3-none-any.whl (10 kB)\n",
      "Installing collected packages: pycoingecko\n",
      "Successfully installed pycoingecko-3.2.0\n",
      "Note: you may need to restart the kernel to use updated packages.\n"
     ]
    }
   ],
   "source": [
    "pip install pycoingecko\n"
   ]
  },
  {
   "cell_type": "code",
   "execution_count": 3,
   "id": "37090c4a-72df-465a-9014-3e6a3eba3948",
   "metadata": {},
   "outputs": [
    {
     "name": "stdout",
     "output_type": "stream",
     "text": [
      "Collecting streamlit-autorefresh\n",
      "  Downloading streamlit_autorefresh-1.0.1-py3-none-any.whl.metadata (436 bytes)\n",
      "Requirement already satisfied: streamlit>=0.75 in c:\\users\\caleb\\anaconda3\\lib\\site-packages (from streamlit-autorefresh) (1.37.1)\n",
      "Requirement already satisfied: altair<6,>=4.0 in c:\\users\\caleb\\anaconda3\\lib\\site-packages (from streamlit>=0.75->streamlit-autorefresh) (5.0.1)\n",
      "Requirement already satisfied: blinker<2,>=1.0.0 in c:\\users\\caleb\\anaconda3\\lib\\site-packages (from streamlit>=0.75->streamlit-autorefresh) (1.6.2)\n",
      "Requirement already satisfied: cachetools<6,>=4.0 in c:\\users\\caleb\\anaconda3\\lib\\site-packages (from streamlit>=0.75->streamlit-autorefresh) (5.3.3)\n",
      "Requirement already satisfied: click<9,>=7.0 in c:\\users\\caleb\\anaconda3\\lib\\site-packages (from streamlit>=0.75->streamlit-autorefresh) (8.1.7)\n",
      "Requirement already satisfied: numpy<3,>=1.20 in c:\\users\\caleb\\anaconda3\\lib\\site-packages (from streamlit>=0.75->streamlit-autorefresh) (1.26.4)\n",
      "Requirement already satisfied: packaging<25,>=20 in c:\\users\\caleb\\anaconda3\\lib\\site-packages (from streamlit>=0.75->streamlit-autorefresh) (24.1)\n",
      "Requirement already satisfied: pandas<3,>=1.3.0 in c:\\users\\caleb\\anaconda3\\lib\\site-packages (from streamlit>=0.75->streamlit-autorefresh) (2.2.2)\n",
      "Requirement already satisfied: pillow<11,>=7.1.0 in c:\\users\\caleb\\anaconda3\\lib\\site-packages (from streamlit>=0.75->streamlit-autorefresh) (10.4.0)\n",
      "Requirement already satisfied: protobuf<6,>=3.20 in c:\\users\\caleb\\anaconda3\\lib\\site-packages (from streamlit>=0.75->streamlit-autorefresh) (4.25.3)\n",
      "Requirement already satisfied: pyarrow>=7.0 in c:\\users\\caleb\\anaconda3\\lib\\site-packages (from streamlit>=0.75->streamlit-autorefresh) (16.1.0)\n",
      "Requirement already satisfied: requests<3,>=2.27 in c:\\users\\caleb\\anaconda3\\lib\\site-packages (from streamlit>=0.75->streamlit-autorefresh) (2.32.3)\n",
      "Requirement already satisfied: rich<14,>=10.14.0 in c:\\users\\caleb\\anaconda3\\lib\\site-packages (from streamlit>=0.75->streamlit-autorefresh) (13.7.1)\n",
      "Requirement already satisfied: tenacity<9,>=8.1.0 in c:\\users\\caleb\\anaconda3\\lib\\site-packages (from streamlit>=0.75->streamlit-autorefresh) (8.2.3)\n",
      "Requirement already satisfied: toml<2,>=0.10.1 in c:\\users\\caleb\\anaconda3\\lib\\site-packages (from streamlit>=0.75->streamlit-autorefresh) (0.10.2)\n",
      "Requirement already satisfied: typing-extensions<5,>=4.3.0 in c:\\users\\caleb\\anaconda3\\lib\\site-packages (from streamlit>=0.75->streamlit-autorefresh) (4.14.1)\n",
      "Requirement already satisfied: gitpython!=3.1.19,<4,>=3.0.7 in c:\\users\\caleb\\anaconda3\\lib\\site-packages (from streamlit>=0.75->streamlit-autorefresh) (3.1.43)\n",
      "Requirement already satisfied: pydeck<1,>=0.8.0b4 in c:\\users\\caleb\\anaconda3\\lib\\site-packages (from streamlit>=0.75->streamlit-autorefresh) (0.8.0)\n",
      "Requirement already satisfied: tornado<7,>=6.0.3 in c:\\users\\caleb\\anaconda3\\lib\\site-packages (from streamlit>=0.75->streamlit-autorefresh) (6.4.1)\n",
      "Requirement already satisfied: watchdog<5,>=2.1.5 in c:\\users\\caleb\\anaconda3\\lib\\site-packages (from streamlit>=0.75->streamlit-autorefresh) (4.0.1)\n",
      "Requirement already satisfied: jinja2 in c:\\users\\caleb\\anaconda3\\lib\\site-packages (from altair<6,>=4.0->streamlit>=0.75->streamlit-autorefresh) (3.1.4)\n",
      "Requirement already satisfied: jsonschema>=3.0 in c:\\users\\caleb\\anaconda3\\lib\\site-packages (from altair<6,>=4.0->streamlit>=0.75->streamlit-autorefresh) (4.23.0)\n",
      "Requirement already satisfied: toolz in c:\\users\\caleb\\anaconda3\\lib\\site-packages (from altair<6,>=4.0->streamlit>=0.75->streamlit-autorefresh) (0.12.0)\n",
      "Requirement already satisfied: colorama in c:\\users\\caleb\\anaconda3\\lib\\site-packages (from click<9,>=7.0->streamlit>=0.75->streamlit-autorefresh) (0.4.6)\n",
      "Requirement already satisfied: gitdb<5,>=4.0.1 in c:\\users\\caleb\\anaconda3\\lib\\site-packages (from gitpython!=3.1.19,<4,>=3.0.7->streamlit>=0.75->streamlit-autorefresh) (4.0.7)\n",
      "Requirement already satisfied: python-dateutil>=2.8.2 in c:\\users\\caleb\\anaconda3\\lib\\site-packages (from pandas<3,>=1.3.0->streamlit>=0.75->streamlit-autorefresh) (2.9.0.post0)\n",
      "Requirement already satisfied: pytz>=2020.1 in c:\\users\\caleb\\anaconda3\\lib\\site-packages (from pandas<3,>=1.3.0->streamlit>=0.75->streamlit-autorefresh) (2024.1)\n",
      "Requirement already satisfied: tzdata>=2022.7 in c:\\users\\caleb\\anaconda3\\lib\\site-packages (from pandas<3,>=1.3.0->streamlit>=0.75->streamlit-autorefresh) (2023.3)\n",
      "Requirement already satisfied: charset-normalizer<4,>=2 in c:\\users\\caleb\\anaconda3\\lib\\site-packages (from requests<3,>=2.27->streamlit>=0.75->streamlit-autorefresh) (3.3.2)\n",
      "Requirement already satisfied: idna<4,>=2.5 in c:\\users\\caleb\\anaconda3\\lib\\site-packages (from requests<3,>=2.27->streamlit>=0.75->streamlit-autorefresh) (3.7)\n",
      "Requirement already satisfied: urllib3<3,>=1.21.1 in c:\\users\\caleb\\anaconda3\\lib\\site-packages (from requests<3,>=2.27->streamlit>=0.75->streamlit-autorefresh) (2.2.3)\n",
      "Requirement already satisfied: certifi>=2017.4.17 in c:\\users\\caleb\\anaconda3\\lib\\site-packages (from requests<3,>=2.27->streamlit>=0.75->streamlit-autorefresh) (2025.4.26)\n",
      "Requirement already satisfied: markdown-it-py>=2.2.0 in c:\\users\\caleb\\anaconda3\\lib\\site-packages (from rich<14,>=10.14.0->streamlit>=0.75->streamlit-autorefresh) (2.2.0)\n",
      "Requirement already satisfied: pygments<3.0.0,>=2.13.0 in c:\\users\\caleb\\anaconda3\\lib\\site-packages (from rich<14,>=10.14.0->streamlit>=0.75->streamlit-autorefresh) (2.15.1)\n",
      "Requirement already satisfied: smmap<5,>=3.0.1 in c:\\users\\caleb\\anaconda3\\lib\\site-packages (from gitdb<5,>=4.0.1->gitpython!=3.1.19,<4,>=3.0.7->streamlit>=0.75->streamlit-autorefresh) (4.0.0)\n",
      "Requirement already satisfied: MarkupSafe>=2.0 in c:\\users\\caleb\\anaconda3\\lib\\site-packages (from jinja2->altair<6,>=4.0->streamlit>=0.75->streamlit-autorefresh) (2.1.3)\n",
      "Requirement already satisfied: attrs>=22.2.0 in c:\\users\\caleb\\anaconda3\\lib\\site-packages (from jsonschema>=3.0->altair<6,>=4.0->streamlit>=0.75->streamlit-autorefresh) (23.1.0)\n",
      "Requirement already satisfied: jsonschema-specifications>=2023.03.6 in c:\\users\\caleb\\anaconda3\\lib\\site-packages (from jsonschema>=3.0->altair<6,>=4.0->streamlit>=0.75->streamlit-autorefresh) (2023.7.1)\n",
      "Requirement already satisfied: referencing>=0.28.4 in c:\\users\\caleb\\anaconda3\\lib\\site-packages (from jsonschema>=3.0->altair<6,>=4.0->streamlit>=0.75->streamlit-autorefresh) (0.30.2)\n",
      "Requirement already satisfied: rpds-py>=0.7.1 in c:\\users\\caleb\\anaconda3\\lib\\site-packages (from jsonschema>=3.0->altair<6,>=4.0->streamlit>=0.75->streamlit-autorefresh) (0.10.6)\n",
      "Requirement already satisfied: mdurl~=0.1 in c:\\users\\caleb\\anaconda3\\lib\\site-packages (from markdown-it-py>=2.2.0->rich<14,>=10.14.0->streamlit>=0.75->streamlit-autorefresh) (0.1.0)\n",
      "Requirement already satisfied: six>=1.5 in c:\\users\\caleb\\anaconda3\\lib\\site-packages (from python-dateutil>=2.8.2->pandas<3,>=1.3.0->streamlit>=0.75->streamlit-autorefresh) (1.16.0)\n",
      "Downloading streamlit_autorefresh-1.0.1-py3-none-any.whl (700 kB)\n",
      "   ---------------------------------------- 0.0/700.8 kB ? eta -:--:--\n",
      "   ---------------------------------------- 700.8/700.8 kB 7.0 MB/s eta 0:00:00\n",
      "Installing collected packages: streamlit-autorefresh\n",
      "Successfully installed streamlit-autorefresh-1.0.1\n",
      "Note: you may need to restart the kernel to use updated packages.\n"
     ]
    }
   ],
   "source": [
    "pip install streamlit-autorefresh\n"
   ]
  },
  {
   "cell_type": "code",
   "execution_count": 1,
   "id": "888c6308-9d63-4c62-8804-97a871a39b40",
   "metadata": {},
   "outputs": [
    {
     "name": "stderr",
     "output_type": "stream",
     "text": [
      "2025-08-14 08:03:13.442 \n",
      "  \u001b[33m\u001b[1mWarning:\u001b[0m to view this Streamlit app on a browser, run it with the following\n",
      "  command:\n",
      "\n",
      "    streamlit run C:\\Users\\Caleb\\anaconda3\\Lib\\site-packages\\ipykernel_launcher.py [ARGUMENTS]\n"
     ]
    }
   ],
   "source": [
    "# streamlit_app.py\n",
    "import streamlit as st\n",
    "from pycoingecko import CoinGeckoAPI\n",
    "import pandas as pd\n",
    "from streamlit_autorefresh import st_autorefresh\n",
    "\n",
    "# Auto-refresh every 10 seconds\n",
    "st_autorefresh(interval=10000, key=\"crypto_refresh\")\n",
    "\n",
    "# Initialize CoinGecko API\n",
    "cg = CoinGeckoAPI()\n",
    "\n",
    "st.title(\"Real-Time Crypto Spread Dashboard\")\n",
    "\n",
    "# List of popular crypto IDs from CoinGecko\n",
    "crypto_options = ['bitcoin', 'ethereum', 'ripple', 'litecoin', 'cardano', 'dogecoin']\n",
    "selected_cryptos = st.multiselect(\"Select Cryptocurrencies\", crypto_options, default=['bitcoin','ethereum'])\n",
    "\n",
    "if not selected_cryptos:\n",
    "    st.warning(\"Please select at least one cryptocurrency.\")\n",
    "    st.stop()\n",
    "\n",
    "# Fetch real-time data\n",
    "try:\n",
    "    data = cg.get_price(ids=selected_cryptos, vs_currencies='usd', include_24hr_change='true', include_market_cap='true')\n",
    "    # Convert to DataFrame\n",
    "    df = pd.DataFrame(data).T.reset_index()\n",
    "    df.columns = ['Crypto', 'Price (USD)', '24h Change (%)', 'Market Cap (USD)']\n",
    "    st.dataframe(df)\n",
    "except Exception as e:\n",
    "    st.error(f\"Error fetching data: {e}\")\n",
    "\n",
    "# Optional: display spread between highest and lowest price among selected cryptos\n",
    "if len(selected_cryptos) > 1:\n",
    "    max_price = df['Price (USD)'].max()\n",
    "    min_price = df['Price (USD)'].min()\n",
    "    spread = max_price - min_price\n",
    "    st.metric(\"Price Spread\", f\"${spread:,.2f}\")\n"
   ]
  },
  {
   "cell_type": "code",
   "execution_count": null,
   "id": "1f48e92b-9817-49fc-abb8-2a0f0ac4087f",
   "metadata": {},
   "outputs": [],
   "source": []
  }
 ],
 "metadata": {
  "kernelspec": {
   "display_name": "Python [conda env:base] *",
   "language": "python",
   "name": "conda-base-py"
  },
  "language_info": {
   "codemirror_mode": {
    "name": "ipython",
    "version": 3
   },
   "file_extension": ".py",
   "mimetype": "text/x-python",
   "name": "python",
   "nbconvert_exporter": "python",
   "pygments_lexer": "ipython3",
   "version": "3.12.7"
  }
 },
 "nbformat": 4,
 "nbformat_minor": 5
}
